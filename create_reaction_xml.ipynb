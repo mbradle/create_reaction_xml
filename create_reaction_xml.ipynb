{
 "cells": [
  {
   "cell_type": "markdown",
   "metadata": {},
   "source": [
    "This notebook creates webnucleo reaction XML data from user-supplied input.  First install and import the necessary packages."
   ]
  },
  {
   "cell_type": "code",
   "execution_count": 1,
   "metadata": {},
   "outputs": [],
   "source": [
    "import sys\n",
    "!{sys.executable} -m pip install --quiet wnutils\n",
    "import wnutils.xml as wx"
   ]
  },
  {
   "cell_type": "markdown",
   "metadata": {},
   "source": [
    "Now create a new XML object."
   ]
  },
  {
   "cell_type": "code",
   "execution_count": 2,
   "metadata": {},
   "outputs": [],
   "source": [
    "new_xml = wx.New_Xml(xml_type = 'reaction_data')"
   ]
  },
  {
   "cell_type": "markdown",
   "metadata": {},
   "source": [
    "Create a dictionary of reactions."
   ]
  },
  {
   "cell_type": "code",
   "execution_count": 3,
   "metadata": {},
   "outputs": [],
   "source": [
    "reactions = {}"
   ]
  },
  {
   "cell_type": "markdown",
   "metadata": {},
   "source": [
    "Add reactions.  This notebook will create four reactions.  The necessary data are 1) a list of strings giving the reactants, 2) a list of strings giving the products, 3) a source (a string giving the provenance of the data), and 4) the rate data.\n",
    "\n",
    "The rate data are included as a dictionary with entries being the *type* and then the relevant data fields.  The three standard formats are 1) a single rate, 2) a rate table, and 3) the non-smoker format.  It is also possible to add user-defined rate data.  Examples of each are as follows:\n",
    "\n",
    "- A single rate:  Supply the rate as a single float.\n",
    "       \n",
    "        reactions[\"new\"].data = {'type': 'single_rate', 'rate': 1.5}\n",
    "        \n",
    "- A rate table:  For each temperature (*t9*), provide a rate (*rate*) and stellar enhancement factor (*sef*).  These are supplied as lists.  Note that the stellar enhancement factor corrects the ground-state\n",
    "\n",
    "        t9 = [0.01, 0.1, 1, 2, 3, 5, 10]\n",
    "        rate = [1.e3, 2.e3, 3.e3, 5.e3, 7.e3, 1.e4, 1.e5]\n",
    "        sef = [1, 1, 1, 1, 1, 1, 1]\n",
    "        reactions['new'].data = {'type': 'rate_table', 'rate': rate, 't9': t9, 'sef': sef}\n",
    "        \n",
    "- A non-smoker fit:  Provide the fit parameters.\n",
    "\n",
    "        reactions['new'].data = {'type': 'non_smoker_fit', 'fits': [{'spint': 0.5, 'spinf': 1.0,\n",
    "        'TlowHf': -1.0, 'Tlowfit': 0.01, 'Thighfit': 10.0, 'acc': 0.035, 'a1': 204.211, 'a2': -10.533,\n",
    "        'a3': 414.2, 'a4': -658.043, 'a5': 37.4352, 'a6': -2.17474, 'a7': 326.601, 'a8': 227.497}]}\n",
    "        \n",
    "- A user-defined rate:  Provide the user-defined properties.\n",
    "\n",
    "        reactions['new'].data = {'type': 'user_rate', 'key': 'kunz fit', ('a', '0'): ' 1.21e8',\n",
    "        ('a', '1'): ' 6.06e-2', ('a', '10'): ' 2.e6', ('a', '11'): ' 38.534', ('a', '2'): ' 32.12',\n",
    "        ('a', '3'): ' 1.7', ('a', '4'): ' 7.4e8', ('a', '5'): ' 0.47', ('a', '6'): ' 32.12',\n",
    "        ('a', '7'): ' 0.', ('a', '8'): ' 0.', ('a', '9'): ' 1.53e4'}\n",
    "\n",
    "This example adds a reaction of each type.  It is possible to add as many reactions of each type as desired.\n"
   ]
  },
  {
   "cell_type": "code",
   "execution_count": 4,
   "metadata": {},
   "outputs": [],
   "source": [
    "reactions['new1'] = wx.Reaction()\n",
    "reactions['new1'].reactants = ['zn70']\n",
    "reactions['new1'].products = ['cu65', 'n', 'n', 'n', 'n', 'n', 'electron', 'anti-neutrino_e']\n",
    "reactions['new1'].source = \"my data1\"\n",
    "reactions['new1'].data = {'type': 'single_rate', 'rate': 1.5}\n",
    "\n",
    "reactions['new2'] = wx.Reaction()\n",
    "reactions['new2'].reactants = ['n', 'f20']\n",
    "reactions['new2'].products = ['f21', 'gamma']\n",
    "reactions['new2'].source = \"my data2\"\n",
    "reactions['new2'].data = {'type': 'rate_table', 't9': [0.01, 0.1, 1, 2, 3, 5, 10], \n",
    "                          'rate': [1.e3, 2.e3, 3.e3, 5.e3, 7.e3, 1.e4, 1.e5], 'sef':[1, 1, 1, 1, 1, 1, 1]}\n",
    "                               \n",
    "reactions['new3'] = wx.Reaction()\n",
    "reactions['new3'].reactants = ['ge111', 'h1']\n",
    "reactions['new3'].products = ['as112', 'gamma']\n",
    "reactions['new3'].source = 'ADNDT (2001) 75, 1 (non-smoker)'\n",
    "reactions['new3'].data = {'type': 'non_smoker_fit', 'fits': [{'spint': 0.5, 'spinf': 1.0, 'TlowHf': -1.0, \n",
    "                                                              'Tlowfit': 0.01, 'Thighfit': 10.0, 'acc': 0.035,\n",
    "                                                              'a1': 204.211, 'a2': -10.533, 'a3': 414.2, \n",
    "                                                              'a4': -658.043, 'a5': 37.4352, 'a6': -2.17474,\n",
    "                                                              'a7': 326.601, 'a8': 227.497}]}\n",
    "reactions['new4'] = wx.Reaction()\n",
    "reactions['new4'].reactants = ['c12', 'he4']\n",
    "reactions['new4'].products = ['o16', 'gamma']\n",
    "reactions['new4'].source = 'Kunz et al. (2002)'\n",
    "reactions['new4'].source = \"Kunz et al. (2002).  The text can be anything, such as \\\"Emma Woodhouse, handsome, clever and rich, \\\n",
    "with a comfortable home and happy disposition seemed to unite some of the best blessings of existence and \\\n",
    "had lived nearly twenty-one years in the world with very little to distress or vex her.\\\" though you will \\\n",
    "probably want something more concise and relevant!\"\n",
    "reactions['new4'].data = {'type': 'user_rate', 'key': 'kunz fit', ('a', '0'): ' 1.21e8',\n",
    "                          ('a', '1'): ' 6.06e-2', ('a', '10'): ' 2.e6', ('a', '11'): ' 38.534',\n",
    "                          ('a', '2'): ' 32.12', ('a', '3'): ' 1.7', ('a', '4'): ' 7.4e8',\n",
    "                          ('a', '5'): ' 0.47', ('a', '6'): ' 32.12', ('a', '7'): ' 0.',\n",
    "                          ('a', '8'): ' 0.', ('a', '9'): ' 1.53e4'}"
   ]
  },
  {
   "cell_type": "markdown",
   "metadata": {},
   "source": [
    "Now set the reaction data in the new XML."
   ]
  },
  {
   "cell_type": "code",
   "execution_count": 5,
   "metadata": {},
   "outputs": [],
   "source": [
    "new_xml.set_reaction_data(reactions)"
   ]
  },
  {
   "cell_type": "markdown",
   "metadata": {},
   "source": [
    "Choose an output file name."
   ]
  },
  {
   "cell_type": "code",
   "execution_count": 6,
   "metadata": {},
   "outputs": [],
   "source": [
    "my_file = \"my_reaction.xml\""
   ]
  },
  {
   "cell_type": "markdown",
   "metadata": {},
   "source": [
    "Write out the data to the file."
   ]
  },
  {
   "cell_type": "code",
   "execution_count": 7,
   "metadata": {},
   "outputs": [],
   "source": [
    "new_xml.write(my_file)"
   ]
  },
  {
   "cell_type": "markdown",
   "metadata": {},
   "source": [
    "Now print out the XML file contents."
   ]
  },
  {
   "cell_type": "code",
   "execution_count": 8,
   "metadata": {},
   "outputs": [
    {
     "name": "stdout",
     "output_type": "stream",
     "text": [
      "<reaction_data>\r\n",
      "  <!--zn70 -> cu65 + n + n + n + n + n + electron + anti-neutrino_e-->\r\n",
      "  <reaction>\r\n",
      "    <source>my data1</source>\r\n",
      "    <reactant>zn70</reactant>\r\n",
      "    <product>cu65</product>\r\n",
      "    <product>n</product>\r\n",
      "    <product>n</product>\r\n",
      "    <product>n</product>\r\n",
      "    <product>n</product>\r\n",
      "    <product>n</product>\r\n",
      "    <product>electron</product>\r\n",
      "    <product>anti-neutrino_e</product>\r\n",
      "    <single_rate>1.5</single_rate>\r\n",
      "  </reaction>\r\n",
      "  <!--n + f20 -> f21 + gamma-->\r\n",
      "  <reaction>\r\n",
      "    <source>my data2</source>\r\n",
      "    <reactant>n</reactant>\r\n",
      "    <reactant>f20</reactant>\r\n",
      "    <product>f21</product>\r\n",
      "    <product>gamma</product>\r\n",
      "    <rate_table>\r\n",
      "      <point>\r\n",
      "        <t9>0.01</t9>\r\n",
      "        <rate>1000.0</rate>\r\n",
      "        <sef>1</sef>\r\n",
      "      </point>\r\n",
      "      <point>\r\n",
      "        <t9>0.1</t9>\r\n",
      "        <rate>2000.0</rate>\r\n",
      "        <sef>1</sef>\r\n",
      "      </point>\r\n",
      "      <point>\r\n",
      "        <t9>1</t9>\r\n",
      "        <rate>3000.0</rate>\r\n",
      "        <sef>1</sef>\r\n",
      "      </point>\r\n",
      "      <point>\r\n",
      "        <t9>2</t9>\r\n",
      "        <rate>5000.0</rate>\r\n",
      "        <sef>1</sef>\r\n",
      "      </point>\r\n",
      "      <point>\r\n",
      "        <t9>3</t9>\r\n",
      "        <rate>7000.0</rate>\r\n",
      "        <sef>1</sef>\r\n",
      "      </point>\r\n",
      "      <point>\r\n",
      "        <t9>5</t9>\r\n",
      "        <rate>10000.0</rate>\r\n",
      "        <sef>1</sef>\r\n",
      "      </point>\r\n",
      "      <point>\r\n",
      "        <t9>10</t9>\r\n",
      "        <rate>100000.0</rate>\r\n",
      "        <sef>1</sef>\r\n",
      "      </point>\r\n",
      "    </rate_table>\r\n",
      "  </reaction>\r\n",
      "  <!--ge111 + h1 -> as112 + gamma-->\r\n",
      "  <reaction>\r\n",
      "    <source>ADNDT (2001) 75, 1 (non-smoker)</source>\r\n",
      "    <reactant>ge111</reactant>\r\n",
      "    <reactant>h1</reactant>\r\n",
      "    <product>as112</product>\r\n",
      "    <product>gamma</product>\r\n",
      "    <non_smoker_fit>\r\n",
      "      <fit>\r\n",
      "        <spint>0.5</spint>\r\n",
      "        <spinf>1.0</spinf>\r\n",
      "        <TlowHf>-1.0</TlowHf>\r\n",
      "        <Tlowfit>0.01</Tlowfit>\r\n",
      "        <Thighfit>10.0</Thighfit>\r\n",
      "        <acc>0.035</acc>\r\n",
      "        <a1>204.211</a1>\r\n",
      "        <a2>-10.533</a2>\r\n",
      "        <a3>414.2</a3>\r\n",
      "        <a4>-658.043</a4>\r\n",
      "        <a5>37.4352</a5>\r\n",
      "        <a6>-2.17474</a6>\r\n",
      "        <a7>326.601</a7>\r\n",
      "        <a8>227.497</a8>\r\n",
      "      </fit>\r\n",
      "    </non_smoker_fit>\r\n",
      "  </reaction>\r\n",
      "  <!--c12 + he4 -> o16 + gamma-->\r\n",
      "  <reaction>\r\n",
      "    <source>Kunz et al. (2002).  The text can be anything, such as \"Emma Woodhouse, handsome, clever and rich, with a comfortable home and happy disposition seemed to unite some of the best blessings of existence and had lived nearly twenty-one years in the world with very little to distress or vex her.\" though you will probably want something more concise and relevant!</source>\r\n",
      "    <reactant>c12</reactant>\r\n",
      "    <reactant>he4</reactant>\r\n",
      "    <product>o16</product>\r\n",
      "    <product>gamma</product>\r\n",
      "    <user_rate key=\"kunz fit\">\r\n",
      "      <properties>\r\n",
      "        <property name=\"a\" tag1=\"0\"> 1.21e8</property>\r\n",
      "        <property name=\"a\" tag1=\"1\"> 6.06e-2</property>\r\n",
      "        <property name=\"a\" tag1=\"10\"> 2.e6</property>\r\n",
      "        <property name=\"a\" tag1=\"11\"> 38.534</property>\r\n",
      "        <property name=\"a\" tag1=\"2\"> 32.12</property>\r\n",
      "        <property name=\"a\" tag1=\"3\"> 1.7</property>\r\n",
      "        <property name=\"a\" tag1=\"4\"> 7.4e8</property>\r\n",
      "        <property name=\"a\" tag1=\"5\"> 0.47</property>\r\n",
      "        <property name=\"a\" tag1=\"6\"> 32.12</property>\r\n",
      "        <property name=\"a\" tag1=\"7\"> 0.</property>\r\n",
      "        <property name=\"a\" tag1=\"8\"> 0.</property>\r\n",
      "        <property name=\"a\" tag1=\"9\"> 1.53e4</property>\r\n",
      "      </properties>\r\n",
      "    </user_rate>\r\n",
      "  </reaction>\r\n",
      "</reaction_data>\r\n"
     ]
    }
   ],
   "source": [
    "!cat $my_file"
   ]
  },
  {
   "cell_type": "markdown",
   "metadata": {},
   "source": [
    "The new XML file exists in the local directory.  If you are running this notebook on Google Colab, you can download the file by clicking on the folder icon on the left to show the current files in your working directory.  To download the file, right click (or control click) on the file name and then choose download."
   ]
  },
  {
   "cell_type": "code",
   "execution_count": null,
   "metadata": {},
   "outputs": [],
   "source": []
  }
 ],
 "metadata": {
  "kernelspec": {
   "display_name": "Python 3",
   "language": "python",
   "name": "python3"
  },
  "language_info": {
   "codemirror_mode": {
    "name": "ipython",
    "version": 3
   },
   "file_extension": ".py",
   "mimetype": "text/x-python",
   "name": "python",
   "nbconvert_exporter": "python",
   "pygments_lexer": "ipython3",
   "version": "3.7.10"
  }
 },
 "nbformat": 4,
 "nbformat_minor": 4
}
