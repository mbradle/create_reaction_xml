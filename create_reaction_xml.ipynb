{
 "cells": [
  {
   "cell_type": "markdown",
   "metadata": {},
   "source": [
    "This notebook creates webnucleo reaction XML data from user-supplied input.  First install and import the necessary packages."
   ]
  },
  {
   "cell_type": "code",
   "execution_count": 1,
   "metadata": {},
   "outputs": [],
   "source": [
    "import sys\n",
    "!{sys.executable} -m pip install --quiet wnutils\n",
    "import wnutils.xml as wx"
   ]
  },
  {
   "cell_type": "markdown",
   "metadata": {},
   "source": [
    "Now create a new XML object."
   ]
  },
  {
   "cell_type": "code",
   "execution_count": 2,
   "metadata": {},
   "outputs": [],
   "source": [
    "new_xml = wx.New_Xml(xml_type = 'reaction_data')"
   ]
  },
  {
   "cell_type": "markdown",
   "metadata": {},
   "source": [
    "Create a dictionary of reactions."
   ]
  },
  {
   "cell_type": "code",
   "execution_count": 3,
   "metadata": {},
   "outputs": [],
   "source": [
    "reactions = {}"
   ]
  },
  {
   "cell_type": "markdown",
   "metadata": {},
   "source": [
    "Add a reaction.  This notebook will only create one reaction, but it is possible to add others.  Just be sure to distinguish them by their key.  For example, to add a second reaction, you could call it \"new2\"."
   ]
  },
  {
   "cell_type": "code",
   "execution_count": 4,
   "metadata": {},
   "outputs": [],
   "source": [
    "reactions['new'] = wx.Reaction()"
   ]
  },
  {
   "cell_type": "markdown",
   "metadata": {},
   "source": [
    "Add the reactants as a list."
   ]
  },
  {
   "cell_type": "code",
   "execution_count": 5,
   "metadata": {},
   "outputs": [],
   "source": [
    "reactions['new'].reactants = ['c12', 'h1']"
   ]
  },
  {
   "cell_type": "markdown",
   "metadata": {},
   "source": [
    "Add the products as a list."
   ]
  },
  {
   "cell_type": "code",
   "execution_count": 6,
   "metadata": {},
   "outputs": [],
   "source": [
    "reactions['new'].products = ['n13', 'gamma']"
   ]
  },
  {
   "cell_type": "markdown",
   "metadata": {},
   "source": [
    "Add a source string.  It should describe the provenance of the rate data (perhaps a reference).  In this example, you see how you can even include a string inside the string."
   ]
  },
  {
   "cell_type": "code",
   "execution_count": 7,
   "metadata": {},
   "outputs": [],
   "source": [
    "reactions['new'].source = \"The text can be anything, such as \\\"Emma Woodhouse, handsome, clever and rich, \\\n",
    "with a comfortable home and happy disposition seemed to unite some of the best blessings of existence and \\\n",
    "had lived nearly twenty-one years in the world with very little to distress or vex her.\\\" though you will \\\n",
    "probably want something more concise and relevant!\""
   ]
  },
  {
   "cell_type": "markdown",
   "metadata": {},
   "source": [
    "Now add the data.  The data are included as a dictionary with entries being the *type* and then the relevant data fields.  The three standard formats are 1) a single rate, 2) a rate table, and 3) the non-smoker format.  It is also possible to add user-defined rate data.  Examples of each are as follows:\n",
    "\n",
    "- A single rate:  Supply the rate as a single float.\n",
    "       \n",
    "        reactions[\"new\"].data = {'type': 'single_rate', 'rate': 1.5}\n",
    "        \n",
    "- A rate table:  For each temperature (*t9*), provide a rate (*rate*) and stellar enhancement factor (*sef*).  These are supplied as lists.\n",
    "\n",
    "        t9 = [0.01, 0.1, 1, 2, 3, 5, 10]\n",
    "        rate = [1.e3, 2.e3, 3.e3, 5.e3, 7.e3, 1.e4, 1.e5]\n",
    "        sef = [1, 1, 1, 1, 1, 1, 1]\n",
    "        reactions['new'].data = {'type': 'rate_table', 'rate': rate, 't9': t9, 'sef': sef}\n",
    "        \n",
    "- A non-smoker fit:  Provide the fit parameters.\n",
    "\n",
    "        reactions['new'].data = {'type': 'non_smoker_fit', 'fits': [{'spint': 0.5, 'spinf': 1.0,\n",
    "        'TlowHf': -1.0, 'Tlowfit': 0.01, 'Thighfit': 10.0, 'acc': 0.035, 'a1': 204.211, 'a2': -10.533,\n",
    "        'a3': 414.2, 'a4': -658.043, 'a5': 37.4352, 'a6': -2.17474, 'a7': 326.601, 'a8': 227.497}]}\n",
    "        \n",
    "- A user-defined rate:  Provide the user-defined properties.\n",
    "\n",
    "        reactions['new'].data = {'type': 'user_rate', 'key': 'kunz fit', ('a', '0'): ' 1.21e8',\n",
    "        ('a', '1'): ' 6.06e-2', ('a', '10'): ' 2.e6', ('a', '11'): ' 38.534', ('a', '2'): ' 32.12',\n",
    "        ('a', '3'): ' 1.7', ('a', '4'): ' 7.4e8', ('a', '5'): ' 0.47', ('a', '6'): ' 32.12',\n",
    "        ('a', '7'): ' 0.', ('a', '8'): ' 0.', ('a', '9'): ' 1.53e4'}\n",
    "\n",
    "\n",
    "For this example, we use a rate table.  "
   ]
  },
  {
   "cell_type": "code",
   "execution_count": 8,
   "metadata": {},
   "outputs": [],
   "source": [
    "t9 = [0.01, 0.1, 1, 2, 3, 5, 10]\n",
    "rate = [1.e3, 2.e3, 3.e3, 5.e3, 7.e3, 1.e4, 1.e5]\n",
    "sef = [1, 1, 1, 1, 1, 1, 1]\n",
    "reactions['new'].data = {'type': 'rate_table', 'rate': rate, 't9': t9, 'sef': sef}"
   ]
  },
  {
   "cell_type": "markdown",
   "metadata": {},
   "source": [
    "Now set the reaction data in the new XML."
   ]
  },
  {
   "cell_type": "code",
   "execution_count": 9,
   "metadata": {},
   "outputs": [],
   "source": [
    "new_xml.set_reaction_data(reactions)"
   ]
  },
  {
   "cell_type": "markdown",
   "metadata": {},
   "source": [
    "Choose an output file name."
   ]
  },
  {
   "cell_type": "code",
   "execution_count": 10,
   "metadata": {},
   "outputs": [],
   "source": [
    "my_file = \"my_reaction.xml\""
   ]
  },
  {
   "cell_type": "markdown",
   "metadata": {},
   "source": [
    "Write out the data to the file."
   ]
  },
  {
   "cell_type": "code",
   "execution_count": 11,
   "metadata": {},
   "outputs": [],
   "source": [
    "new_xml.write(my_file)"
   ]
  },
  {
   "cell_type": "markdown",
   "metadata": {},
   "source": [
    "Now print out the XML file contents."
   ]
  },
  {
   "cell_type": "code",
   "execution_count": 12,
   "metadata": {},
   "outputs": [
    {
     "name": "stdout",
     "output_type": "stream",
     "text": [
      "<reaction_data>\r\n",
      "  <!--c12 + h1 -> n13 + gamma-->\r\n",
      "  <reaction>\r\n",
      "    <source>The text can be anything, such as \"Emma Woodhouse, handsome, clever and rich, with a comfortable home and happy disposition seemed to unite some of the best blessings of existence and had lived nearly twenty-one years in the world with very little to distress or vex her.\" though you will probably want something more concise and relevant!</source>\r\n",
      "    <reactant>c12</reactant>\r\n",
      "    <reactant>h1</reactant>\r\n",
      "    <product>n13</product>\r\n",
      "    <product>gamma</product>\r\n",
      "    <rate_table>\r\n",
      "      <point>\r\n",
      "        <t9>0.01</t9>\r\n",
      "        <rate>1000.0</rate>\r\n",
      "        <sef>1</sef>\r\n",
      "      </point>\r\n",
      "      <point>\r\n",
      "        <t9>0.1</t9>\r\n",
      "        <rate>2000.0</rate>\r\n",
      "        <sef>1</sef>\r\n",
      "      </point>\r\n",
      "      <point>\r\n",
      "        <t9>1</t9>\r\n",
      "        <rate>3000.0</rate>\r\n",
      "        <sef>1</sef>\r\n",
      "      </point>\r\n",
      "      <point>\r\n",
      "        <t9>2</t9>\r\n",
      "        <rate>5000.0</rate>\r\n",
      "        <sef>1</sef>\r\n",
      "      </point>\r\n",
      "      <point>\r\n",
      "        <t9>3</t9>\r\n",
      "        <rate>7000.0</rate>\r\n",
      "        <sef>1</sef>\r\n",
      "      </point>\r\n",
      "      <point>\r\n",
      "        <t9>5</t9>\r\n",
      "        <rate>10000.0</rate>\r\n",
      "        <sef>1</sef>\r\n",
      "      </point>\r\n",
      "      <point>\r\n",
      "        <t9>10</t9>\r\n",
      "        <rate>100000.0</rate>\r\n",
      "        <sef>1</sef>\r\n",
      "      </point>\r\n",
      "    </rate_table>\r\n",
      "  </reaction>\r\n",
      "</reaction_data>\r\n"
     ]
    }
   ],
   "source": [
    "!cat $my_file"
   ]
  },
  {
   "cell_type": "markdown",
   "metadata": {},
   "source": [
    "The new XML file exists in the local directory.  If you are running this notebook on Google Colab, you can download the file by clicking on the folder icon on the left to show the current files in your working directory.  To download the file, right click (or control click) on the file name and then choose download."
   ]
  },
  {
   "cell_type": "code",
   "execution_count": null,
   "metadata": {},
   "outputs": [],
   "source": []
  }
 ],
 "metadata": {
  "kernelspec": {
   "display_name": "Python 3",
   "language": "python",
   "name": "python3"
  },
  "language_info": {
   "codemirror_mode": {
    "name": "ipython",
    "version": 3
   },
   "file_extension": ".py",
   "mimetype": "text/x-python",
   "name": "python",
   "nbconvert_exporter": "python",
   "pygments_lexer": "ipython3",
   "version": "3.7.10"
  }
 },
 "nbformat": 4,
 "nbformat_minor": 4
}
